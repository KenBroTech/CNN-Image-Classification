{
 "cells": [
  {
   "cell_type": "code",
   "execution_count": null,
   "id": "434ffc83",
   "metadata": {},
   "outputs": [],
   "source": [
    "# Import libraries - pandas, numpy, matplotlib, keras, tensorflow, \n"
   ]
  },
  {
   "cell_type": "code",
   "execution_count": null,
   "id": "c9a61314",
   "metadata": {},
   "outputs": [],
   "source": [
    "# Import Dataset\n"
   ]
  },
  {
   "cell_type": "code",
   "execution_count": null,
   "id": "34d28e08",
   "metadata": {},
   "outputs": [],
   "source": [
    "# Split dataset into training and testing part\n"
   ]
  },
  {
   "cell_type": "markdown",
   "id": "520291dd",
   "metadata": {},
   "source": [
    "![image](images/cnn_image.jpg)\n"
   ]
  },
  {
   "cell_type": "code",
   "execution_count": null,
   "id": "459f2d98",
   "metadata": {},
   "outputs": [],
   "source": [
    "# View Data\n"
   ]
  },
  {
   "cell_type": "code",
   "execution_count": null,
   "id": "580cbc41",
   "metadata": {},
   "outputs": [],
   "source": [
    "# Reshape Dataset\n"
   ]
  },
  {
   "cell_type": "code",
   "execution_count": null,
   "id": "34062501",
   "metadata": {},
   "outputs": [],
   "source": [
    "# Get Labels into Categorical State\n"
   ]
  },
  {
   "cell_type": "code",
   "execution_count": null,
   "id": "ec9c421a",
   "metadata": {},
   "outputs": [],
   "source": [
    "# Build CNN Model\n"
   ]
  },
  {
   "cell_type": "code",
   "execution_count": null,
   "id": "0fa545df",
   "metadata": {},
   "outputs": [],
   "source": [
    "# Check CNN model summary\n"
   ]
  },
  {
   "cell_type": "code",
   "execution_count": null,
   "id": "6bddeeca",
   "metadata": {},
   "outputs": [],
   "source": [
    "# Check CNN initial weights\n"
   ]
  },
  {
   "cell_type": "code",
   "execution_count": null,
   "id": "87909f35",
   "metadata": {},
   "outputs": [],
   "source": [
    "# Compile CNN model\n"
   ]
  },
  {
   "cell_type": "code",
   "execution_count": null,
   "id": "cbe847b8",
   "metadata": {},
   "outputs": [],
   "source": []
  }
 ],
 "metadata": {
  "kernelspec": {
   "display_name": "Python 3 (ipykernel)",
   "language": "python",
   "name": "python3"
  },
  "language_info": {
   "codemirror_mode": {
    "name": "ipython",
    "version": 3
   },
   "file_extension": ".py",
   "mimetype": "text/x-python",
   "name": "python",
   "nbconvert_exporter": "python",
   "pygments_lexer": "ipython3",
   "version": "3.10.5"
  }
 },
 "nbformat": 4,
 "nbformat_minor": 5
}
